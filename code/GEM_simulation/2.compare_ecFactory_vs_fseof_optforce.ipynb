{
 "cells": [
  {
   "cell_type": "markdown",
   "metadata": {},
   "source": [
    "#### Compare the prediction result among ecFactory vs FSEOF vs optForce"
   ]
  },
  {
   "cell_type": "code",
   "execution_count": 21,
   "metadata": {},
   "outputs": [],
   "source": [
    "import os\n",
    "import pandas as pd\n",
    "\n",
    "# set workdir\n",
    "os.chdir(r'D:\\code\\github\\CellFactory-ecYeastGEM')"
   ]
  },
  {
   "cell_type": "code",
   "execution_count": 22,
   "metadata": {},
   "outputs": [],
   "source": [
    "# ecFactoryl3_path=r'results/spermine_targets.txt'\n",
    "ecFactoryl3_path=r'results/production_targets/spermidine_targets/candidates_L3.txt'\n",
    "ecFactoryl2_path=r'results/production_targets/spermidine_targets/candidates_L2.txt'\n",
    "ecFactoryl1_path=r'results/production_targets/spermidine_targets/candidates_L1.txt'\n",
    "fseof_path=r'code/GEM_simulation/output/fseof_result.xlsx'\n",
    "optforce_path=r'code/GEM_simulation/output/OptForce_r_2051_gene.csv'\n",
    "\n",
    "\n",
    "df_ecFactoryl1=pd.read_csv(ecFactoryl1_path,sep='\\t')\n",
    "df_ecFactoryl2=pd.read_csv(ecFactoryl2_path,sep='\\t')\n",
    "df_ecFactoryl3=pd.read_csv(ecFactoryl3_path,sep='\\t')\n",
    "df_fseof=pd.read_excel(fseof_path,index_col=0)\n",
    "df_optforce=pd.read_csv(optforce_path)\n",
    "\n",
    "ecFactoryl1_dict={'KD':df_ecFactoryl1[df_ecFactoryl1['actions'].isin(['KD','KO'])]['genes'].tolist(),\n",
    "                  'OE':df_ecFactoryl1[df_ecFactoryl1['actions'].isin(['OE'])]['genes'].tolist()}\n",
    "ecFactoryl2_dict={'KD':df_ecFactoryl2[df_ecFactoryl2['actions'].isin(['KD','KO'])]['genes'].tolist(),\n",
    "                    'OE':df_ecFactoryl2[df_ecFactoryl2['actions'].isin(['OE'])]['genes'].tolist()}\n",
    "ecFactoryl3_dict={'KD':df_ecFactoryl3[df_ecFactoryl3['actions'].isin(['KD','KO'])]['genes'].tolist(),\n",
    "                    'OE':df_ecFactoryl3[df_ecFactoryl3['actions'].isin(['OE'])]['genes'].tolist()}\n",
    "fseof_dict={'KD':df_fseof[df_fseof['actions'].isin(['KD','KO'])]['gene'].tolist(),\n",
    "            'OE':df_fseof[df_fseof['actions'].isin(['OE'])]['gene'].tolist()}\n",
    "optforce_dict={'KD':df_optforce[df_optforce['target'].isin(['KD','KO'])]['geneID'].tolist(),\n",
    "                'OE':df_optforce[df_optforce['target'].isin(['OE'])]['geneID'].tolist()}"
   ]
  },
  {
   "cell_type": "code",
   "execution_count": 23,
   "metadata": {},
   "outputs": [],
   "source": [
    "# load experimental data\n",
    "exp_data_path=r'data/spermidine_exp_targets.tsv'\n",
    "df_exp=pd.read_csv(exp_data_path,sep='\\t')\n",
    "\n",
    "exp_dict={'KD':df_exp[df_exp['action'].isin(['KD','KO'])]['geneID'].tolist(),\n",
    "            'OE':df_exp[df_exp['action'].isin(['OE'])]['geneID'].tolist()}\n",
    "\n",
    "# save result to json\n",
    "to_save_dict={'ecFactory_L1':ecFactoryl1_dict,'ecFactory_L2':ecFactoryl2_dict,'ecFactory_L3':ecFactoryl3_dict,\n",
    "                'fseof':fseof_dict,'optforce':optforce_dict,'exp':exp_dict}\n",
    "import json\n",
    "with open(r'code/GEM_simulation/output/spermidine_preiction_results.json','w') as f:\n",
    "    json.dump(to_save_dict,f)"
   ]
  },
  {
   "cell_type": "code",
   "execution_count": 24,
   "metadata": {},
   "outputs": [
    {
     "name": "stdout",
     "output_type": "stream",
     "text": [
      "ecFacory_l1 result:\n",
      "{'KD_hits': ['YLR438W', 'YLR146C'], 'OE_hits': ['YOL052C', 'YPR069C', 'YKL184W', 'YLR017W', 'YOR375C', 'YPR021C', 'YOR130C'], 'KD_consistency': 0.2857142857142857, 'OE_consistency': 0.5833333333333334, 'total_consistency': 0.47368421052631576}\n",
      "ecFacory_l2 result:\n",
      "{'KD_hits': ['YLR438W', 'YLR146C'], 'OE_hits': ['YOL052C', 'YPR069C', 'YKL184W', 'YLR017W', 'YOR375C'], 'KD_consistency': 0.2857142857142857, 'OE_consistency': 0.4166666666666667, 'total_consistency': 0.3684210526315789}\n",
      "ecFacory_l3 result:\n",
      "{'KD_hits': ['YLR438W', 'YLR146C'], 'OE_hits': ['YLR017W', 'YOL052C', 'YPR069C', 'YKL184W'], 'KD_consistency': 0.2857142857142857, 'OE_consistency': 0.3333333333333333, 'total_consistency': 0.3157894736842105}\n",
      "fseof result:\n",
      "{'KD_hits': ['YLR438W'], 'OE_hits': ['YOL052C', 'YDR502C', 'YKL184W', 'YPR069C', 'YLR017W', 'YOR375C', 'YPR021C', 'YOL061W', 'YML022W', 'YOR130C'], 'KD_consistency': 0.14285714285714285, 'OE_consistency': 0.8333333333333334, 'total_consistency': 0.5789473684210527}\n",
      "OptForce result:\n",
      "{'KD_hits': [], 'OE_hits': ['YOL052C', 'YPR069C', 'YKL184W', 'YLR017W', 'YJR148W'], 'KD_consistency': 0.0, 'OE_consistency': 0.4166666666666667, 'total_consistency': 0.2631578947368421}\n"
     ]
    }
   ],
   "source": [
    "def calculate_exp_consistency(exp_dict,method_dict):\n",
    "    result_dict={}\n",
    "    KD_exp=exp_dict['KD']\n",
    "    OE_exp=exp_dict['OE']\n",
    "    KD_method=method_dict['KD']\n",
    "    OE_method=method_dict['OE']\n",
    "    kd_hits=list(set(KD_exp).intersection(KD_method))\n",
    "    oe_hits=list(set(OE_exp).intersection(OE_method))\n",
    "    KD_consistency=len(kd_hits)/len(KD_exp)\n",
    "    OE_consistency=len(oe_hits)/len(OE_exp)\n",
    "    total_consistency=len(kd_hits+oe_hits)/len(KD_exp+OE_exp)\n",
    "    result_dict['KD_hits']=kd_hits\n",
    "    result_dict['OE_hits']=oe_hits\n",
    "    result_dict['KD_consistency']=KD_consistency\n",
    "    result_dict['OE_consistency']=OE_consistency\n",
    "    result_dict['total_consistency']=total_consistency\n",
    "    print(result_dict)\n",
    "    return result_dict\n",
    "\n",
    "print('ecFacory_l1 result:')\n",
    "ecFactoryl1_consistency=calculate_exp_consistency(exp_dict,ecFactoryl1_dict)\n",
    "print('ecFacory_l2 result:')\n",
    "ecFactoryl2_consistency=calculate_exp_consistency(exp_dict,ecFactoryl2_dict)\n",
    "print('ecFacory_l3 result:')\n",
    "ecFactoryl3_consistency=calculate_exp_consistency(exp_dict,ecFactoryl3_dict)\n",
    "print('fseof result:')\n",
    "fseof_consistency=calculate_exp_consistency(exp_dict,fseof_dict)\n",
    "print('OptForce result:')\n",
    "optforce_consistency=calculate_exp_consistency(exp_dict,optforce_dict)"
   ]
  },
  {
   "cell_type": "code",
   "execution_count": 25,
   "metadata": {},
   "outputs": [
    {
     "name": "stdout",
     "output_type": "stream",
     "text": [
      "ecFactory vs FSEOF: OE special set(), KD special {'YLR146C'}\n",
      "ecFactory vs OptForce: OE special {'YOR130C', 'YOR375C', 'YPR021C'}, KD special {'YLR438W', 'YLR146C'}\n"
     ]
    }
   ],
   "source": [
    "# ecFactory vs FSEOF\n",
    "oe_specific=set(ecFactoryl1_consistency['OE_hits'])-set(fseof_consistency['OE_hits'])\n",
    "kd_specific=set(ecFactoryl1_consistency['KD_hits'])-set(fseof_consistency['KD_hits'])\n",
    "print(f'ecFactory vs FSEOF: OE special {oe_specific}, KD special {kd_specific}')\n",
    "\n",
    "# ecFactory vs OptForce\n",
    "oe_specific=set(ecFactoryl1_consistency['OE_hits'])-set(optforce_consistency['OE_hits'])\n",
    "kd_specific=set(ecFactoryl1_consistency['KD_hits'])-set(optforce_consistency['KD_hits'])\n",
    "print(f'ecFactory vs OptForce: OE special {oe_specific}, KD special {kd_specific}')"
   ]
  },
  {
   "cell_type": "code",
   "execution_count": 26,
   "metadata": {},
   "outputs": [
    {
     "name": "stdout",
     "output_type": "stream",
     "text": [
      "ecFactoryl1 accuracy: 0.10588235294117647\n",
      "ecFactoryl2 accuracy: 0.16279069767441862\n",
      "ecFactoryl3 accuracy: 0.20689655172413793\n",
      "fseof accuracy: 0.102803738317757\n",
      "optforce accuracy: 0.04\n"
     ]
    },
    {
     "data": {
      "text/html": [
       "<div>\n",
       "<style scoped>\n",
       "    .dataframe tbody tr th:only-of-type {\n",
       "        vertical-align: middle;\n",
       "    }\n",
       "\n",
       "    .dataframe tbody tr th {\n",
       "        vertical-align: top;\n",
       "    }\n",
       "\n",
       "    .dataframe thead th {\n",
       "        text-align: right;\n",
       "    }\n",
       "</style>\n",
       "<table border=\"1\" class=\"dataframe\">\n",
       "  <thead>\n",
       "    <tr style=\"text-align: right;\">\n",
       "      <th></th>\n",
       "      <th>method</th>\n",
       "      <th>accuracy</th>\n",
       "      <th>targets number</th>\n",
       "      <th>hit validated targets number</th>\n",
       "    </tr>\n",
       "  </thead>\n",
       "  <tbody>\n",
       "    <tr>\n",
       "      <th>4</th>\n",
       "      <td>optForce</td>\n",
       "      <td>0.040000</td>\n",
       "      <td>125</td>\n",
       "      <td>5</td>\n",
       "    </tr>\n",
       "    <tr>\n",
       "      <th>3</th>\n",
       "      <td>FSEOF</td>\n",
       "      <td>0.102804</td>\n",
       "      <td>107</td>\n",
       "      <td>11</td>\n",
       "    </tr>\n",
       "    <tr>\n",
       "      <th>0</th>\n",
       "      <td>ecFactory L1</td>\n",
       "      <td>0.105882</td>\n",
       "      <td>85</td>\n",
       "      <td>9</td>\n",
       "    </tr>\n",
       "    <tr>\n",
       "      <th>1</th>\n",
       "      <td>ecFactory L2</td>\n",
       "      <td>0.162791</td>\n",
       "      <td>43</td>\n",
       "      <td>7</td>\n",
       "    </tr>\n",
       "    <tr>\n",
       "      <th>2</th>\n",
       "      <td>ecFactory L3</td>\n",
       "      <td>0.206897</td>\n",
       "      <td>29</td>\n",
       "      <td>6</td>\n",
       "    </tr>\n",
       "  </tbody>\n",
       "</table>\n",
       "</div>"
      ],
      "text/plain": [
       "         method  accuracy  targets number  hit validated targets number\n",
       "4      optForce  0.040000             125                             5\n",
       "3         FSEOF  0.102804             107                            11\n",
       "0  ecFactory L1  0.105882              85                             9\n",
       "1  ecFactory L2  0.162791              43                             7\n",
       "2  ecFactory L3  0.206897              29                             6"
      ]
     },
     "execution_count": 26,
     "metadata": {},
     "output_type": "execute_result"
    }
   ],
   "source": [
    "# compare the ratio of hit genes for total predicted genes\n",
    "def calculate_accuracy(exp_dict,method_dict):\n",
    "    KD_exp=exp_dict['KD']\n",
    "    OE_exp=exp_dict['OE']\n",
    "    KD_method=method_dict['KD']\n",
    "    OE_method=method_dict['OE']\n",
    "    kd_hits=list(set(KD_exp).intersection(KD_method))\n",
    "    oe_hits=list(set(OE_exp).intersection(OE_method))\n",
    "    total_hit=len(kd_hits+oe_hits)\n",
    "    total_targets=len(KD_method+OE_method)\n",
    "    accuracy=total_hit/total_targets\n",
    "    return accuracy\n",
    "\n",
    "ecFactoryl1_accuracy=calculate_accuracy(exp_dict,ecFactoryl1_dict)\n",
    "print(f'ecFactoryl1 accuracy: {ecFactoryl1_accuracy}')\n",
    "    \n",
    "ecFactoryl2_accuracy=calculate_accuracy(exp_dict,ecFactoryl2_dict)\n",
    "print(f'ecFactoryl2 accuracy: {ecFactoryl2_accuracy}')\n",
    "\n",
    "ecFactoryl3_accuracy=calculate_accuracy(exp_dict,ecFactoryl3_dict)\n",
    "print(f'ecFactoryl3 accuracy: {ecFactoryl3_accuracy}')\n",
    "\n",
    "fseof_accuracy=calculate_accuracy(exp_dict,fseof_dict)\n",
    "print(f'fseof accuracy: {fseof_accuracy}')\n",
    "\n",
    "optforce_accuracy=calculate_accuracy(exp_dict,optforce_dict)\n",
    "print(f'optforce accuracy: {optforce_accuracy}')\n",
    "\n",
    "df_accuracy=pd.DataFrame({'method':['ecFactory L1','ecFactory L2','ecFactory L3','FSEOF','optForce'],\n",
    "                          'accuracy':[ecFactoryl1_accuracy,ecFactoryl2_accuracy,ecFactoryl3_accuracy,fseof_accuracy,optforce_accuracy]})\n",
    "df_accuracy=df_accuracy.sort_values('accuracy',ascending=True)\n",
    "df_accuracy['targets number']=df_accuracy['method'].map({'ecFactory L1':len(ecFactoryl1_dict['KD']+ecFactoryl1_dict['OE']),\n",
    "                                                        'ecFactory L2':len(ecFactoryl2_dict['KD']+ecFactoryl2_dict['OE']),\n",
    "                                                        'ecFactory L3':len(ecFactoryl3_dict['KD']+ecFactoryl3_dict['OE']),\n",
    "                                                        'FSEOF':len(fseof_dict['KD']+fseof_dict['OE']),\n",
    "                                                        'optForce':len(optforce_dict['KD']+optforce_dict['OE'])})\n",
    "df_accuracy['hit validated targets number']=df_accuracy['method'].map({'ecFactory L1':len(ecFactoryl1_consistency['KD_hits']+ecFactoryl1_consistency['OE_hits']),\n",
    "                                                                        'ecFactory L2':len(ecFactoryl2_consistency['KD_hits']+ecFactoryl2_consistency['OE_hits']),\n",
    "                                                                        'ecFactory L3':len(ecFactoryl3_consistency['KD_hits']+ecFactoryl3_consistency['OE_hits']),\n",
    "                                                                        'FSEOF':len(fseof_consistency['KD_hits']+fseof_consistency['OE_hits']),\n",
    "                                                                        'optForce':len(optforce_consistency['KD_hits']+optforce_consistency['OE_hits'])})\n",
    "\n",
    "# save result\n",
    "df_accuracy.to_csv(r'code/GEM_simulation/output/spermidine_prediction_accuracy.csv',index=False)\n",
    "df_accuracy"
   ]
  },
  {
   "cell_type": "code",
   "execution_count": 27,
   "metadata": {},
   "outputs": [
    {
     "data": {
      "image/png": "[encoded data removed]",
      "text/plain": [
       "<Figure size 500x400 with 1 Axes>"
      ]
     },
     "metadata": {},
     "output_type": "display_data"
    }
   ],
   "source": [
    "import matplotlib.pyplot as plt\n",
    "import numpy as np\n",
    "\n",
    "# set font as Arial\n",
    "plt.rcParams['font.sans-serif'] = ['Arial']\n",
    "\n",
    "values = df_accuracy['accuracy'].tolist()\n",
    "x_label=df_accuracy['method'].tolist()\n",
    "bar_width = 0.6\n",
    "\n",
    "x_positions = [0, 1, 2, 2.6, 3.2]  \n",
    "\n",
    "fig, ax = plt.subplots(figsize=(5,4))\n",
    "\n",
    "ax.bar(x_positions, values, width=bar_width,color=['#69a2cd','#ff7700','#d1a1ff','#ad86d3','#6f5687'],edgecolor='black')\n",
    "\n",
    "ax.set_xticks(x_positions)\n",
    "ax.set_xticklabels(x_label,rotation=45,fontsize=12,fontweight='bold')\n",
    "\n",
    "# 添加标签和标题\n",
    "ax.set_xlabel('')\n",
    "ax.set_ylabel('Ratio of validated targets',fontsize=14,fontweight='bold')\n",
    "ax.set_title('Prediction of targets for spermidine production',fontsize=14,fontweight='bold')\n",
    "\n",
    "plt.show()"
   ]
  },
  {
   "cell_type": "code",
   "execution_count": 37,
   "metadata": {},
   "outputs": [
    {
     "name": "stdout",
     "output_type": "stream",
     "text": [
      "fseof:\n",
      "{'KD_hits': [], 'OE_hits': ['YGL148W', 'YDR380W', 'YBR249C', 'YNL241C', 'YNL316C', 'YPR060C', 'YDR127W'], 'KD_consistency': 0.0, 'OE_consistency': 0.6363636363636364, 'total_consistency': 0.5833333333333334}\n",
      "ecFactory:\n",
      "{'KD_hits': [], 'OE_hits': ['YGL148W', 'YDR380W', 'YBR249C', 'YNL241C', 'YNL316C', 'YPR060C', 'YDR127W'], 'KD_consistency': 0.0, 'OE_consistency': 0.6363636363636364, 'total_consistency': 0.5833333333333334}\n"
     ]
    }
   ],
   "source": [
    "# compare 2-PE prediction\n",
    "df_fseof=pd.read_excel(r'code/GEM_simulation/output/fseof_result_2PE.xlsx')\n",
    "df_ecFactory=pd.read_csv(r'results/production_targets/phenylethanol_targets/candidates_L3.txt',sep='\\t')\n",
    "\n",
    "fseof_dict={'KD':df_fseof[df_fseof['actions'].isin(['KD','KO'])]['gene'].tolist(),\n",
    "            'OE':df_fseof[df_fseof['actions'].isin(['OE'])]['gene'].tolist()}\n",
    "    \n",
    "ecFactory_dict={'KD':df_ecFactory[df_ecFactory['actions'].isin(['KD','KO'])]['genes'].tolist(),\n",
    "                'OE':df_ecFactory[df_ecFactory['actions'].isin(['OE'])]['genes'].tolist()}\n",
    "\n",
    "df_exp=pd.read_csv(r'data/2-phenylethanol_exp_targets.tsv',sep='\\t')\n",
    "\n",
    "exp_dict={'KD':df_exp[df_exp['action'].isin(['KD','KO'])]['geneID'].tolist(),\n",
    "            'OE':df_exp[df_exp['action'].isin(['OE'])]['geneID'].tolist()}\n",
    "\n",
    "print('fseof:')\n",
    "fseof_consistency=calculate_exp_consistency(exp_dict,fseof_dict)\n",
    "print('ecFactory:')\n",
    "ecFactory_consistency=calculate_exp_consistency(exp_dict,ecFactory_dict)\n"
   ]
  },
  {
   "cell_type": "code",
   "execution_count": null,
   "metadata": {},
   "outputs": [],
   "source": []
  }
 ],
 "metadata": {
  "kernelspec": {
   "display_name": "data",
   "language": "python",
   "name": "python3"
  },
  "language_info": {
   "codemirror_mode": {
    "name": "ipython",
    "version": 3
   },
   "file_extension": ".py",
   "mimetype": "text/x-python",
   "name": "python",
   "nbconvert_exporter": "python",
   "pygments_lexer": "ipython3",
   "version": "3.11.7"
  }
 },
 "nbformat": 4,
 "nbformat_minor": 2
}
